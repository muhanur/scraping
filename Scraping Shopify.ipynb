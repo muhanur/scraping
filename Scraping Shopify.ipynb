{
 "cells": [
  {
   "cell_type": "code",
   "execution_count": 1,
   "id": "a6a3c8f0",
   "metadata": {},
   "outputs": [],
   "source": [
    "import requests\n",
    "import pandas as pd\n",
    "from time import sleep"
   ]
  },
  {
   "cell_type": "code",
   "execution_count": 2,
   "id": "240f7137",
   "metadata": {},
   "outputs": [],
   "source": [
    "pages = 2\n",
    "limit = 12\n",
    "\n",
    "df = pd.DataFrame(columns=['Product name','SKU','Size','Price','Price Disc'])"
   ]
  },
  {
   "cell_type": "code",
   "execution_count": 3,
   "id": "7a42a037",
   "metadata": {},
   "outputs": [
    {
     "name": "stderr",
     "output_type": "stream",
     "text": [
      "/tmp/ipykernel_29602/3424117230.py:40: FutureWarning: The behavior of DataFrame concatenation with empty or all-NA entries is deprecated. In a future version, this will no longer exclude empty or all-NA columns when determining the result dtypes. To retain the old behavior, exclude the relevant entries before the concat operation.\n",
      "  df = pd.concat([df, pd.DataFrame([new_row])], ignore_index=True)\n"
     ]
    }
   ],
   "source": [
    "for page in range(1, pages):\n",
    "    url = \"https://filter-v1.globo.io/filter?filter_id=32958&shop=shermaine-washington.myshopify.com&collection=279791140962&sort_by=price-descending&country=CA&filter%5B329327%5D%5B%5D=Adidas&filter%5B329327%5D%5B%5D=Nike&filter%5B329327%5D%5B%5D=Jordan&filter%5B329327%5D%5B%5D=New%20Balance&filter%5B329328%5D%5B%5D=Footwear&event=products&limit={}&page={}&page_type=collection\".format(limit, page)\n",
    "\n",
    "    headers = {'User-Agent': 'Mozilla/5.0', 'Accept': 'application/json'}\n",
    "    response = requests.get(url, headers=headers).json()\n",
    "\n",
    "    products = response['products']\n",
    "    for product in products:\n",
    "        PT = product['title']\n",
    "        PI = product['id']\n",
    "        variants = product['variants']\n",
    "        bot = 1\n",
    "        for variant in variants:\n",
    "            if variant['available'] == True:\n",
    "                VI = variant['id']\n",
    "                \n",
    "                bot =+ bot\n",
    "                headers_bot = {'User-Agent': 'Mozilla/5.0 (Macintosh; Intel Mac OS X 10_11_5) AppleWebKit/537.36 (KHTML, like Gecko) Cafari/537.36'}\n",
    "                add_url = 'https://www.theclosetinc.com/cart/add.js'\n",
    "                add_param = {\n",
    "                    'form_type': 'product',\n",
    "                    'utf8': '%E2%9C%93',\n",
    "                    'id': VI,\n",
    "                    'quantity': 1,\n",
    "                    'product-id': PI,\n",
    "                    'section-id': 'template--15213973274722__main',\n",
    "                    'sections': 'cart-drawer'\n",
    "                }\n",
    "\n",
    "                session = requests.Session()\n",
    "                disc_response = session.post(add_url, headers=headers_bot, data=add_param)\n",
    "\n",
    "                if disc_response.status_code == 200:\n",
    "                    disc_price = disc_response.json()['discounted_price'] / 100\n",
    "                else:\n",
    "                    print(\"Too many requests\")\n",
    "                    disc_price = None\n",
    "\n",
    "                new_row = {\"Product name\": PT, \"SKU\": variant['sku'], \"Size\": variant['title'], \"Price\": variant['price'], \"Price Disc\": disc_price}\n",
    "                df = pd.concat([df, pd.DataFrame([new_row])], ignore_index=True)\n",
    "\n",
    "                session.cookies.clear()\n",
    "                sleep(5)\n",
    "\n",
    "df.to_excel('./output/shoes.xlsx')"
   ]
  }
 ],
 "metadata": {
  "kernelspec": {
   "display_name": ".venv",
   "language": "python",
   "name": "python3"
  },
  "language_info": {
   "codemirror_mode": {
    "name": "ipython",
    "version": 3
   },
   "file_extension": ".py",
   "mimetype": "text/x-python",
   "name": "python",
   "nbconvert_exporter": "python",
   "pygments_lexer": "ipython3",
   "version": "3.10.12"
  }
 },
 "nbformat": 4,
 "nbformat_minor": 5
}
